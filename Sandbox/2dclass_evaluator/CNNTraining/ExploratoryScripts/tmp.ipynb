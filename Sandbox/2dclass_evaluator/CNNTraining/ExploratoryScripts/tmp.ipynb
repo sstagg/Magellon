{
 "cells": [
  {
   "cell_type": "code",
   "execution_count": 1,
   "metadata": {},
   "outputs": [],
   "source": [
    "import numpy as np"
   ]
  },
  {
   "cell_type": "code",
   "execution_count": 2,
   "metadata": {},
   "outputs": [],
   "source": [
    "# /nfs/home/khom/test_projects/CryosparcToStar/cryosparc_to_star.sh /nfs/home/wchen/cryosparc/P217/J1921/J1921_00102_particles.cs /nfs/home/wchen/cryosparc/P217/J1921/J1921_passthrough_particles_all_classes.cs test.star\n",
    "\n",
    "# /nfs/home/khom/test_projects/CryosparcToStar/cryosparc_to_star.sh /nfs/home/jmindrebo/cryosparc/CS-23mar10x-2/J39/J39_020_particles.cs /nfs/home/jmindrebo/cryosparc/CS-23mar10x-2/J39/J39_passthrough_particles.cs test.star\n",
    "\n",
    "# /nfs/home/khom/test_projects/CryosparcToStar/cryosparc_to_star.sh /nfs/home/czerio/cryosparc/CS-polqhel-5phos-24-16-dna/J73/J73_020_particles.cs /nfs/home/czerio/cryosparc/CS-polqhel-5phos-24-16-dna/J73/J73_passthrough_particles.cs test.star\n",
    "\n",
    "# /nfs/home/khom/test_projects/CryosparcToStar/cryosparc_to_star.sh /nfs/home/lgebert/cryosparc/CS-40s-ires-a2/J336/J336_020_particles.cs /nfs/home/lgebert/cryosparc/CS-40s-ires-a2/J336/J336_passthrough_particles.cs test.star"
   ]
  },
  {
   "cell_type": "code",
   "execution_count": 3,
   "metadata": {},
   "outputs": [
    {
     "data": {
      "text/plain": [
       "array([(9074605128596124848, 0, [ -2.1125,   1.4625], [-2.4403443 , -1.2622471 , -0.9817477 ], 1.8484375, 2715.7659, 2711.4514, 2715.7659, 24.834873, 2761.3027, 70.371826, 1.4167945 , 0., 0., 0., 0., 1.        , 0, 1.       , 0, [-2.7625, -1.4625], [-0.53294873,  3.001343  , -0.47684887], 1.8484375, 2734.3523, 2734.1013, 2734.3523, 22.227425, 2761.3027, 49.17798 , 1.1062455 , 0., 0., 0., 0., 7.3791346e-09, 1, 1.       , 0, [  2.7625,   0.1625], [-0.53294873,  1.4866465 ,  1.7671459 ], 1.8484375, 2726.624 , 2725.2625, 2726.624 , 23.391842, 2761.3027, 58.070557, 1.2412566 , 0., 0., 0., 0., 2.4277111e-05, 2, 1.       , 0, [  2.1125,   0.4875], [-0.6451485 ,  1.6549461 ,  1.711046  ], 1.8484375, 2727.194 , 2725.6436, 2727.194 , 22.338354, 2761.3027, 56.44702 , 1.2634553, 0., 0., 0., 0., 1.70311123e-05, 3, 1.       ),\n",
       "       (1887625328667000382, 0, [ -1.1375,  -9.5875], [-1.9354454 , -0.8134481 ,  1.2061472 ], 1.8484375, 4184.8237, 4182.1235, 4184.8237, 25.725689, 4227.2183, 68.12012 , 1.3239707 , 0., 0., 0., 0., 0.9995119 , 0, 1.0009767, 0, [ 1.7875, -4.7125], [ 0.86954796, -0.92564785,  2.3842444 ], 1.8484375, 4192.947 , 4190.8374, 4192.947 , 20.969765, 4227.2183, 55.24121 , 1.3171633 , 0., 0., 0., 0., 4.5163473e-04, 1, 1.0009767, 0, [ -7.6375,  -8.9375], [ 1.3744467 , -0.420749  ,  2.7208436 ], 1.8484375, 4196.4453, 4195.042 , 4196.4453, 20.14139 , 4227.2183, 50.91455 , 1.2639284 , 0., 0., 0., 0., 8.7369517e-06, 2, 1.0009767, 0, [  1.1375, -12.5125], [ 2.103745  , -0.420749  , -1.9354454 ], 1.8484375, 4193.9707, 4191.769 , 4193.9707, 19.981962, 4227.2183, 53.229492, 1.3319386, 0., 0., 0., 0., 6.28778580e-05, 3, 1.0009767),\n",
       "       (5372702525435594883, 1, [  2.1125,   2.4375], [-2.6647437 , -1.9354454 ,  0.25244942], 1.8484375, 2763.5718, 2763.5632, 2763.5718, 30.709848, 2795.3052, 62.44336 , 1.0166667 , 0., 0., 0., 0., 0.99902385, 0, 1.0019543, 1, [-0.4875, -2.7625], [ 1.2061472 , -2.103745  , -0.02804993], 1.8484375, 2773.1646, 2773.1558, 2773.1646, 23.043636, 2795.3052, 45.184326, 0.9804079 , 0., 0., 0., 0., 1.2273041e-05, 1, 1.0019543, 1, [ -2.7625,   4.0625], [ 0.9817477 , -1.2622471 ,  1.6549461 ], 1.8484375, 2774.143 , 2774.0918, 2774.143 , 23.349398, 2795.3052, 44.511475, 0.95316106, 0., 0., 0., 0., 5.4781331e-06, 2, 1.0019543, 1, [  1.1375,   7.9625], [-2.103745  ,  2.3842444 , -1.2061472 ], 1.8484375, 2768.9185, 2768.5996, 2768.9185, 21.188091, 2795.3052, 47.574707, 1.1226757, 0., 0., 0., 0., 8.88152455e-04, 3, 1.0019543),\n",
       "       ...,\n",
       "       (5073118479049252856, 1, [ -0.1625,  -5.3625], [ 1.6549461 ,  0.30854928, -0.6451485 ], 1.8484375, 3506.144 , 3505.5654, 3506.144 , 31.784445, 3546.5051, 72.14551 , 1.1349185 , 0., 0., 0., 0., 0.37257954, 0, 1.9696541, 1, [ 3.4125, -3.7375], [ 0.420749  ,  0.5890486 , -1.8793457 ], 1.8484375, 3511.9097, 3511.89  , 3511.9097, 32.987476, 3546.5051, 67.58301 , 1.0243738 , 0., 0., 0., 0., 3.2934477e-03, 1, 1.9696541, 1, [ -0.1625,  -9.9125], [ 0.86954796, -2.608644  , -1.5988463 ], 1.8484375, 3506.421 , 3505.3354, 3506.421 , 28.88483 , 3546.5051, 68.968994, 1.1938618 , 0., 0., 0., 0., 6.0712326e-01, 2, 1.9696541, 1, [ -2.4375,  -8.9375], [ 0.19634955,  1.2061472 ,  2.1598449 ], 1.8484375, 3509.9832, 3509.3281, 3509.9832, 27.961716, 3546.5051, 64.48364 , 1.1530702, 0., 0., 0., 0., 1.66847240e-02, 3, 1.9696541),\n",
       "       (3232366906601588438, 1, [ -8.6125,  -4.7125], [ 0.53294873,  1.3744467 ,  3.057443  ], 1.8484375, 3258.184 , 3257.8933, 3258.184 , 29.454142, 3293.4907, 64.76074 , 1.0993487 , 0., 0., 0., 0., 0.6300765 , 0, 2.25538  , 1, [ 4.3875, -5.3625], [-1.5427464 ,  2.7769434 ,  0.19634955], 1.8484375, 3259.3003, 3259.2864, 3259.3003, 32.83902 , 3293.4907, 67.02954 , 1.0205777 , 0., 0., 0., 0., 1.4647530e-01, 1, 2.25538  , 1, [ -4.7125,  -7.3125], [ 2.3842444 , -0.5890486 , -0.25244942], 1.8484375, 3259.8662, 3259.7346, 3259.8662, 29.6725  , 3293.4907, 63.29712 , 1.0665957 , 0., 0., 0., 0., 1.1110655e-01, 2, 2.25538  , 1, [ -4.7125,   1.1375], [-1.0378475 ,  0.0841498 ,  0.420749  ], 1.8484375, 3258.2283, 3257.915 , 3258.2283, 29.211891, 3293.4907, 64.474365, 1.1035637, 0., 0., 0., 0., 1.12196885e-01, 3, 2.25538  ),\n",
       "       (3430090347910009816, 1, [ -0.1625, -14.1375], [ 0.14024967,  0.75734824, -1.711046  ], 1.8484375, 3455.0789, 3454.8535, 3455.0789, 32.129215, 3481.825 , 58.875244, 0.91622597, 0., 0., 0., 0., 0.90430737, 0, 1.2142669, 1, [ 2.4375, -0.1625], [-2.7769434 , -1.3183469 ,  1.8232458 ], 1.8484375, 3460.4421, 3459.9858, 3460.4421, 28.608313, 3481.825 , 49.99121 , 0.87371826, 0., 0., 0., 0., 5.4618870e-03, 1, 1.2142669, 1, [  0.8125, -14.1375], [ 2.7769434 , -1.8793457 , -0.19634955], 1.8484375, 3457.5793, 3457.2334, 3457.5793, 30.770967, 3481.825 , 55.0166  , 0.8939693 , 0., 0., 0., 0., 7.3940679e-02, 2, 1.2142669, 1, [  0.4875, -13.4875], [ 0.0841498 ,  0.75734824, -1.4305466 ], 1.8484375, 3459.3203, 3459.2283, 3459.3203, 25.573236, 3481.825 , 48.07788 , 0.9400038, 0., 0., 0., 0., 1.65306497e-02, 3, 1.2142669)],\n",
       "      dtype=[('uid', '<u8'), ('alignments_class_0/split', '<u4'), ('alignments_class_0/shift', '<f4', (2,)), ('alignments_class_0/pose', '<f4', (3,)), ('alignments_class_0/psize_A', '<f4'), ('alignments_class_0/error', '<f4'), ('alignments_class_0/error_min', '<f4'), ('alignments_class_0/resid_pow', '<f4'), ('alignments_class_0/slice_pow', '<f4'), ('alignments_class_0/image_pow', '<f4'), ('alignments_class_0/cross_cor', '<f4'), ('alignments_class_0/alpha', '<f4'), ('alignments_class_0/alpha_min', '<f4'), ('alignments_class_0/weight', '<f4'), ('alignments_class_0/pose_ess', '<f4'), ('alignments_class_0/shift_ess', '<f4'), ('alignments_class_0/class_posterior', '<f4'), ('alignments_class_0/class', '<u4'), ('alignments_class_0/class_ess', '<f4'), ('alignments_class_1/split', '<u4'), ('alignments_class_1/shift', '<f4', (2,)), ('alignments_class_1/pose', '<f4', (3,)), ('alignments_class_1/psize_A', '<f4'), ('alignments_class_1/error', '<f4'), ('alignments_class_1/error_min', '<f4'), ('alignments_class_1/resid_pow', '<f4'), ('alignments_class_1/slice_pow', '<f4'), ('alignments_class_1/image_pow', '<f4'), ('alignments_class_1/cross_cor', '<f4'), ('alignments_class_1/alpha', '<f4'), ('alignments_class_1/alpha_min', '<f4'), ('alignments_class_1/weight', '<f4'), ('alignments_class_1/pose_ess', '<f4'), ('alignments_class_1/shift_ess', '<f4'), ('alignments_class_1/class_posterior', '<f4'), ('alignments_class_1/class', '<u4'), ('alignments_class_1/class_ess', '<f4'), ('alignments_class_2/split', '<u4'), ('alignments_class_2/shift', '<f4', (2,)), ('alignments_class_2/pose', '<f4', (3,)), ('alignments_class_2/psize_A', '<f4'), ('alignments_class_2/error', '<f4'), ('alignments_class_2/error_min', '<f4'), ('alignments_class_2/resid_pow', '<f4'), ('alignments_class_2/slice_pow', '<f4'), ('alignments_class_2/image_pow', '<f4'), ('alignments_class_2/cross_cor', '<f4'), ('alignments_class_2/alpha', '<f4'), ('alignments_class_2/alpha_min', '<f4'), ('alignments_class_2/weight', '<f4'), ('alignments_class_2/pose_ess', '<f4'), ('alignments_class_2/shift_ess', '<f4'), ('alignments_class_2/class_posterior', '<f4'), ('alignments_class_2/class', '<u4'), ('alignments_class_2/class_ess', '<f4'), ('alignments_class_3/split', '<u4'), ('alignments_class_3/shift', '<f4', (2,)), ('alignments_class_3/pose', '<f4', (3,)), ('alignments_class_3/psize_A', '<f4'), ('alignments_class_3/error', '<f4'), ('alignments_class_3/error_min', '<f4'), ('alignments_class_3/resid_pow', '<f4'), ('alignments_class_3/slice_pow', '<f4'), ('alignments_class_3/image_pow', '<f4'), ('alignments_class_3/cross_cor', '<f4'), ('alignments_class_3/alpha', '<f4'), ('alignments_class_3/alpha_min', '<f4'), ('alignments_class_3/weight', '<f4'), ('alignments_class_3/pose_ess', '<f4'), ('alignments_class_3/shift_ess', '<f4'), ('alignments_class_3/class_posterior', '<f4'), ('alignments_class_3/class', '<u4'), ('alignments_class_3/class_ess', '<f4')])"
      ]
     },
     "execution_count": 3,
     "metadata": {},
     "output_type": "execute_result"
    }
   ],
   "source": [
    "a = np.load('/nfs/home/wchen/cryosparc/P217/J1921/J1921_00100_particles.cs')\n",
    "a"
   ]
  },
  {
   "cell_type": "code",
   "execution_count": 5,
   "metadata": {},
   "outputs": [
    {
     "data": {
      "text/plain": [
       "array([(9074605128596124848, b'J1550/extract/014693630331174836659_23dec15f_l_00003gr_00021sq_v01_00003hl_00002ed-a-DW_particles.mrc', 36, [260, 260], 0.91, -1., 0, b'spline', 45, 200., 2.7, 0.1,  5556.035 ,  4605.513 , -0.6561435, 0., 1., 1., [-0.44959524, -0.40838873], [-20912.957  , -35968.41   ], [-2605.1206 ,  1693.4213 ], [0., 0., 0., 0.], [0., 0., 0., 0.], 0., 0, [ -4.346875,   0.853125], [ 0.4452927 , -1.0483664 , -0.98525393], 0.91, 6086.8203, 0., 0., 29.997795, 6133.64  , 76.81738 , 1., 1.2803838 , 0., 0., 0., 1., 0, 1., 0, [  0. ,   5.2], 3.9750764, 1.8484375, 2262.8547, 2240.4194, 2262.8547, 3.4143617, 2283.7737, 24.333252, 3.5633676, 0., 0., 0., 0., 0.64960134, 90, 2.1783113, 0.57867545,  93.15244  , 5, 2.3561945, 14693630331174836659, 0, b'J1532/imported/014693630331174836659_23dec15f_l_00003gr_00021sq_v01_00003hl_00002ed-a-DW.mrc', [3838, 3710], 0.6803069 , 0.3802469 ),\n",
       "       (1887625328667000382, b'J1550/extract/014693630331174836659_23dec15f_l_00003gr_00021sq_v01_00003hl_00002ed-a-DW_particles.mrc', 62, [260, 260], 0.91, -1., 0, b'spline', 45, 200., 2.7, 0.1,  5858.3535,  4907.8315, -0.6561435, 0., 1., 1., [-0.44959524, -0.40838873], [-20912.957  , -35968.41   ], [-2605.1206 ,  1693.4213 ], [0., 0., 0., 0.], [0., 0., 0., 0.], 0., 1, [ -3.453125, -22.871876], [-1.9038926 , -2.2124424 , -0.50139385], 0.91, 6197.032 , 0., 0., 31.029623, 6241.2725, 75.27002 , 1., 1.2128736 , 0., 0., 0., 1., 0, 1., 0, [  2.6, -10.4], 4.231533 , 1.8484375, 2296.1814, 2281.7202, 2296.1814, 4.163113 , 2315.8628, 23.844482, 2.8637803, 0., 0., 0., 0., 0.66403276, 43, 2.1857545, 0.56104505, 107.4599   , 3, 1.8325957, 14693630331174836659, 0, b'J1532/imported/014693630331174836659_23dec15f_l_00003gr_00021sq_v01_00003hl_00002ed-a-DW.mrc', [3838, 3710], 0.73401535, 0.8148148 ),\n",
       "       (5372702525435594883, b'J1550/extract/000368602185789668035_23dec15f_l_00003gr_00021sq_v01_00003hl_00004ed-a-DW_particles.mrc',  1, [260, 260], 0.91, -1., 0, b'spline', 45, 200., 2.7, 0.1,  6874.4346,  6142.6436, -0.7198669, 0., 1., 1., [-0.44959524, -0.40838873], [-20912.957  , -35968.41   ], [-2605.1206 ,  1693.4213 ], [0., 0., 0., 0.], [0., 0., 0., 0.], 0., 0, [  4.184375,   1.665625], [ 1.6654648 ,  0.69072956,  1.1535535 ], 0.91, 6060.795 , 0., 0., 30.173359, 6100.0547, 69.433105, 1., 1.1505697 , 0., 0., 0., 1., 0, 1., 0, [  2.6,   2.6], 3.8468482, 1.8484375, 2312.2632, 2297.78  , 2312.2632, 3.8519387, 2331.0532, 22.64209 , 2.9390512, 0., 0., 0., 0., 0.7672884 , 90, 1.661729 , 0.6619572 ,  91.816055 , 5, 2.268928 ,   368602185789668035, 0, b'J1532/imported/000368602185789668035_23dec15f_l_00003gr_00021sq_v01_00003hl_00004ed-a-DW.mrc', [3838, 3710], 0.7084399 , 0.14074074),\n",
       "       ...,\n",
       "       (5073118479049252856, b'J1906/extract/24jan20b_m1_00013gr_00011sq_v01_00004hl_00037ed-a-DW_patch_aligned_doseweighted_particles.mrc', 16, [260, 260], 0.91, -1., 0, b'spline',  1, 200., 2.7, 0.1, 12828.416 , 12687.559 ,  4.2937617, 0., 1., 1., [-0.00371018, -0.00586653], [   597.80676,   -410.14923], [-1148.6167 ,  -565.87384], [0., 0., 0., 0.], [0., 0., 0., 0.], 0., 1, [ -7.921875, -14.584375], [-1.5749686 , -1.677614  , -1.9278132 ], 0.91, 5041.6567, 0., 0., 34.341766, 5075.6387, 68.32373 , 1., 0.99476147, 0., 0., 0., 1., 0, 1., 0, [ -2.6, -10.4], 0.       , 1.8484375, 2257.1252, 2233.3428, 2257.1252, 4.617957 , 2282.703 , 30.195557, 3.269363 , 0., 0., 0., 0., 0.8106159 , 43, 1.486368 , 3.9376087 ,   3.9376087, 0, 0.       ,  9578223097808090673, 0, b'S60/motioncorrected/24jan20b_m1_00013gr_00011sq_v01_00004hl_00037ed-a-DW_patch_aligned_doseweighted.mrc', [3838, 3710], 0.28894877, 0.04168838),\n",
       "       (3232366906601588438, b'J1906/extract/24jan20b_m1_00013gr_00011sq_v01_00004hl_00037ed-a-DW_patch_aligned_doseweighted_particles.mrc', 19, [260, 260], 0.91, -1., 0, b'spline',  1, 200., 2.7, 0.1, 11835.886 , 11695.028 ,  4.2937617, 0., 1., 1., [-0.00371018, -0.00586653], [   597.80676,   -410.14923], [-1148.6167 ,  -565.87384], [0., 0., 0., 0.], [0., 0., 0., 0.], 0., 0, [-15.559375,  -8.978125], [ 1.742611  , -0.43126982, -2.4017875 ], 0.91, 5051.4204, 0., 0., 30.228983, 5088.378 , 67.18652 , 1., 1.1112932 , 0., 0., 0., 1., 0, 1., 0, [ -5.2,  -5.2], 1.9234241, 1.8484375, 2217.9524, 2189.5808, 2217.9524, 5.234938 , 2247.5615, 34.843994, 3.3280234, 0., 0., 0., 0., 0.98353547, 18, 1.0337113, 2.9780757 ,   2.9780757, 0, 0.       ,  9578223097808090673, 0, b'S60/motioncorrected/24jan20b_m1_00013gr_00011sq_v01_00004hl_00037ed-a-DW_patch_aligned_doseweighted.mrc', [3838, 3710], 0.70727766, 0.55862427),\n",
       "       (3430090347910009816, b'J1906/extract/24jan20b_m1_00013gr_00011sq_v01_00004hl_00037ed-a-DW_patch_aligned_doseweighted_particles.mrc', 20, [260, 260], 0.91, -1., 0, b'spline',  1, 200., 2.7, 0.1, 12068.656 , 11927.799 ,  4.2937617, 0., 1., 1., [-0.00371018, -0.00586653], [   597.80676,   -410.14923], [-1148.6167 ,  -565.87384], [0., 0., 0., 0.], [0., 0., 0., 0.], 0., 1, [  1.584375, -27.909374], [-1.5462527 , -0.1507684 , -0.26296812], 0.91, 5005.603 , 0., 0., 38.830517, 5034.4795, 67.70703 , 1., 0.8718276 , 0., 0., 0., 1., 0, 1., 0, [  0. , -10.4], 1.1540544, 1.8484375, 2211.6687, 2202.5918, 2211.6687, 4.531588 , 2229.0273, 21.890137, 2.4152832, 0., 0., 0., 0., 0.6074198 ,  1, 2.516265 , 2.6966913 ,   2.6966913, 0, 0.       ,  9578223097808090673, 0, b'S60/motioncorrected/24jan20b_m1_00013gr_00011sq_v01_00004hl_00037ed-a-DW_patch_aligned_doseweighted.mrc', [3838, 3710], 0.03881402, 0.7503908 )],\n",
       "      dtype=[('uid', '<u8'), ('blob/path', 'S108'), ('blob/idx', '<u4'), ('blob/shape', '<u4', (2,)), ('blob/psize_A', '<f4'), ('blob/sign', '<f4'), ('blob/import_sig', '<u8'), ('ctf/type', 'S7'), ('ctf/exp_group_id', '<u4'), ('ctf/accel_kv', '<f4'), ('ctf/cs_mm', '<f4'), ('ctf/amp_contrast', '<f4'), ('ctf/df1_A', '<f4'), ('ctf/df2_A', '<f4'), ('ctf/df_angle_rad', '<f4'), ('ctf/phase_shift_rad', '<f4'), ('ctf/scale', '<f4'), ('ctf/scale_const', '<f4'), ('ctf/shift_A', '<f4', (2,)), ('ctf/tilt_A', '<f4', (2,)), ('ctf/trefoil_A', '<f4', (2,)), ('ctf/tetra_A', '<f4', (4,)), ('ctf/anisomag', '<f4', (4,)), ('ctf/bfactor', '<f4'), ('alignments3D/split', '<u4'), ('alignments3D/shift', '<f4', (2,)), ('alignments3D/pose', '<f4', (3,)), ('alignments3D/psize_A', '<f4'), ('alignments3D/error', '<f4'), ('alignments3D/error_min', '<f4'), ('alignments3D/resid_pow', '<f4'), ('alignments3D/slice_pow', '<f4'), ('alignments3D/image_pow', '<f4'), ('alignments3D/cross_cor', '<f4'), ('alignments3D/alpha', '<f4'), ('alignments3D/alpha_min', '<f4'), ('alignments3D/weight', '<f4'), ('alignments3D/pose_ess', '<f4'), ('alignments3D/shift_ess', '<f4'), ('alignments3D/class_posterior', '<f4'), ('alignments3D/class', '<u4'), ('alignments3D/class_ess', '<f4'), ('alignments2D/split', '<u4'), ('alignments2D/shift', '<f4', (2,)), ('alignments2D/pose', '<f4'), ('alignments2D/psize_A', '<f4'), ('alignments2D/error', '<f4'), ('alignments2D/error_min', '<f4'), ('alignments2D/resid_pow', '<f4'), ('alignments2D/slice_pow', '<f4'), ('alignments2D/image_pow', '<f4'), ('alignments2D/cross_cor', '<f4'), ('alignments2D/alpha', '<f4'), ('alignments2D/alpha_min', '<f4'), ('alignments2D/weight', '<f4'), ('alignments2D/pose_ess', '<f4'), ('alignments2D/shift_ess', '<f4'), ('alignments2D/class_posterior', '<f4'), ('alignments2D/class', '<u4'), ('alignments2D/class_ess', '<f4'), ('pick_stats/ncc_score', '<f4'), ('pick_stats/power', '<f4'), ('pick_stats/template_idx', '<u4'), ('pick_stats/angle_rad', '<f4'), ('location/micrograph_uid', '<u8'), ('location/exp_group_id', '<u4'), ('location/micrograph_path', 'S104'), ('location/micrograph_shape', '<u4', (2,)), ('location/center_x_frac', '<f4'), ('location/center_y_frac', '<f4')])"
      ]
     },
     "execution_count": 5,
     "metadata": {},
     "output_type": "execute_result"
    }
   ],
   "source": [
    "b = np.load('/nfs/home/wchen/cryosparc/P217/J1921/J1921_passthrough_particles_all_classes.cs')\n",
    "b"
   ]
  },
  {
   "cell_type": "code",
   "execution_count": 6,
   "metadata": {},
   "outputs": [],
   "source": [
    "import re"
   ]
  },
  {
   "cell_type": "code",
   "execution_count": 7,
   "metadata": {},
   "outputs": [],
   "source": [
    "a = re.search(r'@J\\d+', '000013@J1523/extract/000000621533157465021_23dec14g_k_00023gr_00030sq_v01_00004hl_00015ed-a-DW_particles.mrc')"
   ]
  },
  {
   "cell_type": "code",
   "execution_count": 8,
   "metadata": {},
   "outputs": [
    {
     "data": {
      "text/plain": [
       "'@J1523'"
      ]
     },
     "execution_count": 8,
     "metadata": {},
     "output_type": "execute_result"
    }
   ],
   "source": [
    "a[0]"
   ]
  },
  {
   "cell_type": "code",
   "execution_count": 17,
   "metadata": {},
   "outputs": [
    {
     "name": "stdout",
     "output_type": "stream",
     "text": [
      "done with relative paths\n",
      "\n"
     ]
    }
   ],
   "source": [
    "! d=\"000001@/nfs/home/jmindrebo/cryosparc/CS-23mar10x-2/J34/extract/000000452557742397415_23mar10x_A_00010gr_00007sq_v01_00005hl1250_00017ed36-a-DW_particles.mrc /nfs/home/jmindrebo/cryosparc/CS-23mar10x-2/J1/imported/000000452557742397415_23mar10x_A_00010gr_00007sq_v01_00005hl1250_00017ed36-a-DW.mrc 2040 668 4.591836 2.616250 -3.363750 20638.498047 20320.039062 -64.424194 0.000000 0.000000 1 20\"\n",
    "# ! echo \"$d\" | sed \"s#\\(J[[:digit:]]\\+\\)#---\\1---#g\"\n",
    "\n",
    "\n",
    "! rel_paths=$(cat 'test.star' | grep -o '\\(J[[:digit:]]\\+\\/[^ ]\\+\\.mrc\\)' | sort --unique)\n",
    "! echo \"done with relative paths\"\n",
    "! abs_paths=$(sed 's#\\(J[[:digit:]]\\+\\)#$proj_dir/\\1#g' <<< \"$rel_paths\")\n",
    "# ! echo \"$abs_paths\"\n",
    "! echo \"$rel_paths\""
   ]
  },
  {
   "cell_type": "code",
   "execution_count": 7,
   "metadata": {},
   "outputs": [
    {
     "name": "stdout",
     "output_type": "stream",
     "text": [
      "sed: -e expression #1, char 20: invalid reference \\1 on `s' command's RHS\n",
      "\n"
     ]
    }
   ],
   "source": [
    "! d=\"000006@S3/extract/template/300/23apr28g_00003sq_v01_00002hl1250_00002ed36-a-DW_patch_aligned_doseweighted_particles.mrcs S3/motioncorrected/23apr28g_00003sq_v01_00002hl1250_00002ed36-a-DW_patch_aligned_doseweighted.mrcs 2715 967 89.081635 -4.111250 -5.606250 16796.712891 15787.204102 -89.328346 0.000000 0.000000 2 39\"\n",
    "! proj_dir=\"/nfs/home/czerio/cryosparc/CS-polqhel-5phos-24-16-dna\"\n",
    "\n",
    "! rel_paths=$(echo \"$d\" | grep -o '[^@ ]\\+\\.mrc' | sort --unique)\n",
    "! res=$(sed \"s#[^@ ]\\+\\.mrc#$proj_dir/\\1#g\" <<< rel_paths)\n",
    "! echo \"$res\""
   ]
  },
  {
   "cell_type": "code",
   "execution_count": null,
   "metadata": {},
   "outputs": [],
   "source": [
    "# rel_paths=$(cat $3 | grep -o '\\(J[[:digit:]]\\+\\/[^ ]\\+\\.mrc\\)' | sort --unique)\n"
   ]
  },
  {
   "cell_type": "code",
   "execution_count": null,
   "metadata": {},
   "outputs": [],
   "source": []
  }
 ],
 "metadata": {
  "kernelspec": {
   "display_name": "Python 3",
   "language": "python",
   "name": "python3"
  },
  "language_info": {
   "codemirror_mode": {
    "name": "ipython",
    "version": 3
   },
   "file_extension": ".py",
   "mimetype": "text/x-python",
   "name": "python",
   "nbconvert_exporter": "python",
   "pygments_lexer": "ipython3",
   "version": "3.6.8"
  }
 },
 "nbformat": 4,
 "nbformat_minor": 2
}
